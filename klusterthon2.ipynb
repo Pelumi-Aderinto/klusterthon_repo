{
 "cells": [
  {
   "cell_type": "code",
   "execution_count": 1,
   "metadata": {},
   "outputs": [],
   "source": [
    "\n",
    "import pandas as pd\n",
    "from sklearn.model_selection import train_test_split\n",
    "from sklearn.preprocessing import LabelEncoder, StandardScaler, MinMaxScaler\n",
    "\n",
    "# Load the dataset\n",
    "data = pd.read_csv(\"Crop_Data.csv\")\n",
    "\n",
    "# Encode categorical variables\n",
    "label_encoder_season = LabelEncoder()\n",
    "data['season'] = label_encoder_season.fit_transform(data['season'])\n",
    "\n",
    "label_encoder_label = LabelEncoder()\n",
    "data['label'] = label_encoder_label.fit_transform(data['label'])\n",
    "\n",
    "label_encoder_country = LabelEncoder()\n",
    "data['Country'] = label_encoder_country.fit_transform(data['Country'])\n",
    "\n",
    "label_encoder_harvest_season = LabelEncoder()\n",
    "data['harvest_season'] = label_encoder_harvest_season.fit_transform(data['harvest_season'])\n",
    "\n",
    "# Split the data into features (X) and target variable (y)\n",
    "X = data.drop(['season', 'harvest_season'], axis=1)\n",
    "# X = data.drop(['harvest_season'], axis=1)\n",
    "y_plant = data['season']\n",
    "y_harvest = data['harvest_season']\n",
    "\n",
    "# # Standardize numerical features\n",
    "scaler = StandardScaler()\n",
    "# X_scaled = scaler.fit_transform(X)\n",
    "\n",
    "# Split the dataset into training and testing sets\n",
    "X_train, X_test, y_plant_train, y_plant_test, y_harvest_train, y_harvest_test = train_test_split(\n",
    "    X, y_plant, y_harvest, test_size=0.2, random_state=42\n",
    ")\n",
    "# X_train, X_test, y_season_train, y_season_test = train_test_split(\n",
    "#     X, y_season, test_size=0.2, random_state=42\n",
    "# )\n",
    "X_train = scaler.fit_transform(X_train)\n",
    "X_test = scaler.transform(X_test)\n",
    "\n"
   ]
  },
  {
   "cell_type": "code",
   "execution_count": 2,
   "metadata": {},
   "outputs": [
    {
     "name": "stdout",
     "output_type": "stream",
     "text": [
      "Model Accuracy for crop pred: 0.8678571428571429\n",
      "Model Accuracy for harvest pred: 0.2571428571428571\n",
      "Model saved as plant_season_prediction_model.joblib\n",
      "Model saved as harvest_prediction_model.joblib\n"
     ]
    }
   ],
   "source": [
    "from sklearn.ensemble import RandomForestClassifier\n",
    "from sklearn.ensemble import RandomForestRegressor\n",
    "from sklearn.metrics import mean_squared_error\n",
    "from sklearn.metrics import r2_score\n",
    "from sklearn.metrics import accuracy_score\n",
    "from joblib import dump\n",
    "from sklearn.metrics import accuracy_score, precision_score, recall_score, f1_score, classification_report\n",
    "\n",
    "# Create and train the model for crop prediction\n",
    "model_plant = RandomForestClassifier(n_estimators=100, random_state=42)\n",
    "model_plant.fit(X_train, y_plant_train)\n",
    "\n",
    "# Make predictions on the test set\n",
    "y_pred_plant = model_plant.predict(X_test)\n",
    "\n",
    "# Evaluate the model\n",
    "accuracy_plant = accuracy_score(y_plant_test, y_pred_plant)\n",
    "\n",
    "# Create and train the model for crop harvest\n",
    "model_harvest = RandomForestClassifier(n_estimators=100, random_state=42)\n",
    "model_harvest.fit(X_train, y_harvest_train)\n",
    "\n",
    "# Make predictions on the test set for harvest season\n",
    "y_pred_harvest = model_harvest.predict(X_test)\n",
    "accuracy_season = accuracy_score(y_harvest_test, y_pred_harvest)\n",
    "\n",
    "# Precision, Recall, and F1 Score for the crop pred model\n",
    "# precision_label = precision_score(y_label_test, y_pred_label, average='weighted')\n",
    "# recall_label = recall_score(y_label_test, y_pred_label, average='weighted')\n",
    "# f1_label = f1_score(y_label_test, y_pred_label, average='weighted')\n",
    "\n",
    "print(f\"Model Accuracy for crop pred: {accuracy_plant}\")\n",
    "print(f\"Model Accuracy for harvest pred: {accuracy_season}\")\n",
    "# print(f\"Precision for crop pred model: {precision_label}\")\n",
    "# print(f\"Recall for crop pred model: {recall_label}\")\n",
    "# print(f\"F1 Score for crop pred model: {f1_label}\")\n",
    "\n",
    "\n",
    "\n",
    "# Classification Report\n",
    "# print(\"Classification Report:\")\n",
    "# print(classification_report(y_label_test, y_pred_label))\n",
    "plant_model_filename = 'plant_season_prediction_model.joblib'\n",
    "harvest_model_filename = 'harvest_prediction_model.joblib'\n",
    "dump({'model': model_plant, 'label_encoder_season': label_encoder_season, 'label_encoder_label': label_encoder_label, 'label_encoder_country': label_encoder_country}, 'plant_season_prediction_model.joblib')\n",
    "dump({'model': model_harvest, 'label_encoder_season': label_encoder_season, 'label_encoder_harvest_season': label_encoder_harvest_season, 'label_encoder_country': label_encoder_country}, 'harvest_prediction_model.joblib')\n",
    "dump(scaler, 'standard_scaler.joblib')\n",
    "\n",
    "print(f\"Model saved as {plant_model_filename}\")\n",
    "print(f\"Model saved as {harvest_model_filename}\")\n"
   ]
  },
  {
   "cell_type": "code",
   "execution_count": 5,
   "metadata": {},
   "outputs": [
    {
     "name": "stdout",
     "output_type": "stream",
     "text": [
      "The predicted best season to plant rice based on the information provided is: rainy\n",
      "The predicted best harvest season that will result in optimum yield is: spring\n"
     ]
    },
    {
     "name": "stderr",
     "output_type": "stream",
     "text": [
      "C:\\Users\\USER\\AppData\\Local\\Packages\\PythonSoftwareFoundation.Python.3.10_qbz5n2kfra8p0\\LocalCache\\local-packages\\Python310\\site-packages\\sklearn\\base.py:465: UserWarning: X does not have valid feature names, but StandardScaler was fitted with feature names\n",
      "  warnings.warn(\n"
     ]
    }
   ],
   "source": [
    "# Sample input values for both label and harvest season prediction\n",
    "sample_input = {\n",
    "    'temperature': 28.0,\n",
    "    'humidity': 85.0,\n",
    "    'ph': 9.0,\n",
    "    'water_availability': 250.0,\n",
    "    'label': 'rice',\n",
    "    'country': 'South Africa'\n",
    "}\n",
    "\n",
    "# Use the loaded label encoders\n",
    "label_encoded = label_encoder_label.transform([sample_input['label']])[0]\n",
    "country_encoded = label_encoder_country.transform([sample_input['country']])[0]\n",
    "\n",
    "# Standardize the sample input\n",
    "sample_input_scaled = scaler.transform([[\n",
    "    sample_input['temperature'],\n",
    "    sample_input['humidity'],\n",
    "    sample_input['ph'],\n",
    "    sample_input['water_availability'],\n",
    "    label_encoded,\n",
    "    country_encoded,\n",
    "]])\n",
    "\n",
    "# Make predictions for crop label\n",
    "crop_label_prediction = model_plant.predict(sample_input_scaled)[0]\n",
    "predicted_plant_season = label_encoder_season.inverse_transform([crop_label_prediction])[0]\n",
    "\n",
    "# Make predictions for harvest season\n",
    "harvest_season_prediction = model_harvest.predict(sample_input_scaled)[0]\n",
    "predicted_harvest_season = label_encoder_harvest_season.inverse_transform([harvest_season_prediction])[0]\n",
    "\n",
    "print(f\"The predicted best season to plant {sample_input['label']} based on the information provided is: {predicted_plant_season}\")\n",
    "print(f\"The predicted best harvest season that will result in optimum yield is: {predicted_harvest_season}\")\n"
   ]
  },
  {
   "cell_type": "code",
   "execution_count": 2,
   "metadata": {},
   "outputs": [],
   "source": [
    "from sklearn.ensemble import RandomForestClassifier\n",
    "\n",
    "# Initialize the model\n",
    "model = RandomForestClassifier(random_state=42)\n",
    "\n",
    "# Train the model\n",
    "model.fit(X_train, y_train)\n",
    "\n",
    "# Make predictions on the test set\n",
    "y_pred = model.predict(X_test)\n"
   ]
  },
  {
   "cell_type": "code",
   "execution_count": 1,
   "metadata": {},
   "outputs": [
    {
     "name": "stdout",
     "output_type": "stream",
     "text": [
      "Name: scikit-learn\n",
      "Version: 1.3.2\n",
      "Summary: A set of python modules for machine learning and data mining\n",
      "Home-page: http://scikit-learn.org\n",
      "Author: \n",
      "Author-email: \n",
      "License: new BSD\n",
      "Location: c:\\users\\user\\appdata\\local\\packages\\pythonsoftwarefoundation.python.3.10_qbz5n2kfra8p0\\localcache\\local-packages\\python310\\site-packages\n",
      "Requires: joblib, numpy, scipy, threadpoolctl\n",
      "Required-by: \n",
      "Note: you may need to restart the kernel to use updated packages.\n"
     ]
    }
   ],
   "source": [
    "pip show scikit-learn "
   ]
  },
  {
   "cell_type": "code",
   "execution_count": 3,
   "metadata": {},
   "outputs": [
    {
     "name": "stdout",
     "output_type": "stream",
     "text": [
      "Accuracy: 0.28\n",
      "\n",
      "Classification Report:\n",
      "              precision    recall  f1-score   support\n",
      "\n",
      "       rainy       0.28      0.26      0.27        73\n",
      "      spring       0.27      0.32      0.29        68\n",
      "      summer       0.32      0.26      0.29        72\n",
      "      winter       0.26      0.27      0.26        67\n",
      "\n",
      "    accuracy                           0.28       280\n",
      "   macro avg       0.28      0.28      0.28       280\n",
      "weighted avg       0.28      0.28      0.28       280\n",
      "\n",
      "\n",
      "Confusion Matrix:\n",
      "[[19 22 13 19]\n",
      " [16 22 17 13]\n",
      " [15 18 19 20]\n",
      " [19 20 10 18]]\n"
     ]
    }
   ],
   "source": [
    "from sklearn.metrics import accuracy_score, classification_report, confusion_matrix\n",
    "\n",
    "# Accuracy\n",
    "accuracy = accuracy_score(y_test, y_pred)\n",
    "print(f\"Accuracy: {accuracy:.2f}\")\n",
    "\n",
    "# Classification Report\n",
    "print(\"\\nClassification Report:\")\n",
    "print(classification_report(y_test, y_pred))\n",
    "\n",
    "# Confusion Matrix\n",
    "print(\"\\nConfusion Matrix:\")\n",
    "print(confusion_matrix(y_test, y_pred))\n"
   ]
  },
  {
   "cell_type": "code",
   "execution_count": 4,
   "metadata": {},
   "outputs": [
    {
     "name": "stdout",
     "output_type": "stream",
     "text": [
      "Best Hyperparameters: {'max_depth': 20, 'n_estimators': 50}\n",
      "Accuracy with Best Model: 0.25\n"
     ]
    }
   ],
   "source": [
    "# Example: GridSearchCV for hyperparameter tuning\n",
    "from sklearn.model_selection import GridSearchCV\n",
    "\n",
    "param_grid = {\n",
    "    'n_estimators': [50, 100, 200],\n",
    "    'max_depth': [None, 10, 20],\n",
    "}\n",
    "\n",
    "grid_search = GridSearchCV(RandomForestClassifier(random_state=42), param_grid, cv=5)\n",
    "grid_search.fit(X_train, y_train)\n",
    "\n",
    "# Get the best parameters\n",
    "best_params = grid_search.best_params_\n",
    "print(f\"Best Hyperparameters: {best_params}\")\n",
    "\n",
    "# Re-train the model with the best parameters\n",
    "best_model = grid_search.best_estimator_\n",
    "best_model.fit(X_train, y_train)\n",
    "\n",
    "# Evaluate the best model\n",
    "y_pred_best = best_model.predict(X_test)\n",
    "accuracy_best = accuracy_score(y_test, y_pred_best)\n",
    "print(f\"Accuracy with Best Model: {accuracy_best:.2f}\")\n"
   ]
  },
  {
   "cell_type": "code",
   "execution_count": null,
   "metadata": {},
   "outputs": [],
   "source": []
  }
 ],
 "metadata": {
  "kernelspec": {
   "display_name": "Python 3",
   "language": "python",
   "name": "python3"
  },
  "language_info": {
   "codemirror_mode": {
    "name": "ipython",
    "version": 3
   },
   "file_extension": ".py",
   "mimetype": "text/x-python",
   "name": "python",
   "nbconvert_exporter": "python",
   "pygments_lexer": "ipython3",
   "version": "3.10.11"
  }
 },
 "nbformat": 4,
 "nbformat_minor": 2
}
