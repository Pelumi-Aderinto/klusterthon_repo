{
 "cells": [
  {
   "cell_type": "markdown",
   "metadata": {},
   "source": [
    "## LOADING DATASET, DOING LABEL ENCODING AND SPLITTING INTO TRAIN AND TEST DATASET"
   ]
  },
  {
   "cell_type": "code",
   "execution_count": 2,
   "metadata": {},
   "outputs": [],
   "source": [
    "import pandas as pd\n",
    "from sklearn.model_selection import train_test_split\n",
    "from sklearn.preprocessing import LabelEncoder, StandardScaler, MinMaxScaler\n",
    "\n",
    "# Load the dataset\n",
    "data = pd.read_csv(\"Crop_Data.csv\")\n",
    "\n",
    "# Encode categorical variables\n",
    "\n",
    "label_encoder_label = LabelEncoder()\n",
    "data['label'] = label_encoder_label.fit_transform(data['label'])\n",
    "\n",
    "label_encoder_country = LabelEncoder()\n",
    "data['Country'] = label_encoder_country.fit_transform(data['Country'])\n",
    "\n",
    "label_encoder_harvest_season = LabelEncoder()\n",
    "data['harvest_season'] = label_encoder_harvest_season.fit_transform(data['harvest_season'])\n",
    "\n",
    "# Split the data into features (X) and target variable (y)\n",
    "X = data.drop(['harvest_season'], axis=1)\n",
    "# X = data.drop(['harvest_season'], axis=1\n",
    "y_season = data['harvest_season']\n",
    "\n",
    "# Split the dataset into training and testing sets\n",
    "X_train, X_test, y_season_train, y_season_test = train_test_split(\n",
    "    X, y_season, test_size=0.2, random_state=42\n",
    ")"
   ]
  },
  {
   "cell_type": "markdown",
   "metadata": {},
   "source": [
    "## STANDARDIZING THE TRAIN AND TEST DATASET"
   ]
  },
  {
   "cell_type": "code",
   "execution_count": 3,
   "metadata": {},
   "outputs": [],
   "source": [
    "scaler = StandardScaler()\n",
    "X_train = scaler.fit_transform(X_train)\n",
    "X_test = scaler.transform(X_test)"
   ]
  },
  {
   "cell_type": "markdown",
   "metadata": {},
   "source": [
    "## TRAINING THE DATASET USING A SUPPORT VECTOR CLASSIFIER ALGORITHM, SAVING THE TRAINED MODEL (MODEL SERIALIZATION) AND PERFORMING EVALUATION"
   ]
  },
  {
   "cell_type": "code",
   "execution_count": 4,
   "metadata": {},
   "outputs": [
    {
     "name": "stdout",
     "output_type": "stream",
     "text": [
      "Model Accuracy for harvest pred: 0.9107142857142857\n",
      "Precision for crop pred model: 0.926433601609658\n",
      "Recall for crop pred model: 0.9107142857142857\n",
      "F1 Score for crop pred model: 0.9081689020217822\n",
      "Classification Report:\n",
      "              precision    recall  f1-score   support\n",
      "\n",
      "           0       0.82      1.00      0.90       117\n",
      "           1       1.00      1.00      1.00        20\n",
      "           2       1.00      0.97      0.98        62\n",
      "           3       1.00      0.72      0.83        81\n",
      "\n",
      "    accuracy                           0.91       280\n",
      "   macro avg       0.96      0.92      0.93       280\n",
      "weighted avg       0.93      0.91      0.91       280\n",
      "\n",
      "Model saved as harvest_prediction_model.joblib\n",
      "Standard Scaler has also been saved as joblib file\n"
     ]
    }
   ],
   "source": [
    "from sklearn.svm import SVC\n",
    "from sklearn.metrics import mean_squared_error\n",
    "from sklearn.metrics import r2_score\n",
    "from sklearn.metrics import accuracy_score\n",
    "from joblib import dump\n",
    "from sklearn.metrics import accuracy_score, precision_score, recall_score, f1_score, classification_report\n",
    "\n",
    "# Create and train the model for crop harvest\n",
    "model_harvest = SVC(kernel='rbf', C=1.0)\n",
    "model_harvest.fit(X_train, y_season_train)\n",
    "\n",
    "# Make predictions on the test set for harvest season\n",
    "y_pred_harvest = model_harvest.predict(X_test)\n",
    "accuracy_season = accuracy_score(y_season_test, y_pred_harvest)\n",
    "\n",
    "# Precision, Recall, and F1 Score for the crop pred model\n",
    "precision_harvest = precision_score(y_season_test, y_pred_harvest, average='weighted')\n",
    "recall_harvest = recall_score(y_season_test, y_pred_harvest, average='weighted')\n",
    "f1_harvest = f1_score(y_season_test, y_pred_harvest, average='weighted')\n",
    "\n",
    "\n",
    "print(f\"Model Accuracy for harvest pred: {accuracy_season}\")\n",
    "print(f\"Precision for crop pred model: {precision_harvest}\")\n",
    "print(f\"Recall for crop pred model: {recall_harvest}\")\n",
    "print(f\"F1 Score for crop pred model: {f1_harvest}\")\n",
    "\n",
    "\n",
    "\n",
    "# Classification Report\n",
    "print(\"Classification Report:\")\n",
    "print(classification_report(y_season_test, y_pred_harvest))\n",
    "harvest_model_filename = 'harvest_prediction_model.joblib'\n",
    "dump({'model': model_harvest, 'label_encoder_label': label_encoder_label, 'label_encoder_harvest_season': label_encoder_harvest_season, 'label_encoder_country': label_encoder_country}, 'harvest_prediction_model.joblib')\n",
    "dump(scaler, 'standard_scaler.joblib')\n",
    "print(f\"Model saved as {harvest_model_filename}\")\n",
    "print(\"Standard Scaler has also been saved as joblib file\")"
   ]
  },
  {
   "cell_type": "markdown",
   "metadata": {},
   "source": [
    "## OPTIMIZING MODEL PERFORMANCE BY DOING A GRIDSEARCH OF THE BEST HYPERPARAMETERS THAT GIVE THE HIGHEST ACCURACY SCORE"
   ]
  },
  {
   "cell_type": "code",
   "execution_count": 5,
   "metadata": {},
   "outputs": [
    {
     "name": "stdout",
     "output_type": "stream",
     "text": [
      "Best Parameters: {'C': 1, 'kernel': 'rbf'}\n",
      "Accuracy after Grid Search: 0.9107142857142857\n"
     ]
    }
   ],
   "source": [
    "from sklearn.model_selection import GridSearchCV\n",
    "param_grid = {'C': [0.1, 1, 10, 100], 'kernel': ['linear', 'rbf', 'poly']}\n",
    "grid_search = GridSearchCV(SVC(), param_grid, cv=5, n_jobs=-1)\n",
    "grid_search.fit(X_train, y_season_train)\n",
    "\n",
    "best_params = grid_search.best_params_\n",
    "print(\"Best Parameters:\", best_params)\n",
    "\n",
    "best_svm_model = grid_search.best_estimator_\n",
    "best_svm_model.fit(X_train, y_season_train)\n",
    "\n",
    "y_pred_grid = best_svm_model.predict(X_test)\n",
    "\n",
    "accuracy_grid = accuracy_score(y_season_test, y_pred_grid)\n",
    "print(\"Accuracy after Grid Search:\", accuracy_grid)\n"
   ]
  },
  {
   "cell_type": "markdown",
   "metadata": {},
   "source": [
    "#### After the best hyperparameters were gotten, we had to go back to input the value and retrain the model with the hyperparameter in this notebook to get the best model and then saved it"
   ]
  },
  {
   "cell_type": "markdown",
   "metadata": {},
   "source": [
    "## PERFORMING A QUICK TEST WITH CUSTOM INPUTS TO THE MODEL TO SEE HOW OUR MODEL PERFORMS"
   ]
  },
  {
   "cell_type": "code",
   "execution_count": 6,
   "metadata": {},
   "outputs": [
    {
     "name": "stdout",
     "output_type": "stream",
     "text": [
      "Best_Harvest_Season: rainy\n"
     ]
    },
    {
     "name": "stderr",
     "output_type": "stream",
     "text": [
      "C:\\Users\\USER\\AppData\\Local\\Packages\\PythonSoftwareFoundation.Python.3.10_qbz5n2kfra8p0\\LocalCache\\local-packages\\Python310\\site-packages\\sklearn\\base.py:465: UserWarning: X does not have valid feature names, but StandardScaler was fitted with feature names\n",
      "  warnings.warn(\n"
     ]
    }
   ],
   "source": [
    "# Sample input values for both label and harvest season prediction\n",
    "sample_input = {\n",
    "    'temperature': 25.0,\n",
    "    'humidity': 75.0,\n",
    "    'ph': 7.0,\n",
    "    'water_availability': 250.0,\n",
    "    'label': 'rice',\n",
    "    'country': 'Nigeria'\n",
    "}\n",
    "\n",
    "# Use the loaded label encoders\n",
    "label_encoded = label_encoder_label.transform([sample_input['label']])[0]\n",
    "country_encoded = label_encoder_country.transform([sample_input['country']])[0]\n",
    "\n",
    "# Standardize the sample input\n",
    "sample_input_scaled = scaler.transform([[\n",
    "    sample_input['temperature'],\n",
    "    sample_input['humidity'],\n",
    "    sample_input['ph'],\n",
    "    sample_input['water_availability'],\n",
    "    label_encoded,\n",
    "    country_encoded,\n",
    "]])\n",
    "\n",
    "# Make predictions for harvest season\n",
    "harvest_season_prediction = model_harvest.predict(sample_input_scaled)[0]\n",
    "predicted_harvest_season = label_encoder_harvest_season.inverse_transform([harvest_season_prediction])[0]\n",
    "\n",
    "print(f\"Best_Harvest_Season: {predicted_harvest_season}\")\n"
   ]
  },
  {
   "cell_type": "code",
   "execution_count": 7,
   "metadata": {},
   "outputs": [
    {
     "data": {
      "text/plain": [
       "4"
      ]
     },
     "execution_count": 7,
     "metadata": {},
     "output_type": "execute_result"
    }
   ],
   "source": [
    "data[\"harvest_season\"].nunique()"
   ]
  },
  {
   "cell_type": "code",
   "execution_count": 1,
   "metadata": {},
   "outputs": [
    {
     "data": {
      "text/html": [
       "<div>\n",
       "<style scoped>\n",
       "    .dataframe tbody tr th:only-of-type {\n",
       "        vertical-align: middle;\n",
       "    }\n",
       "\n",
       "    .dataframe tbody tr th {\n",
       "        vertical-align: top;\n",
       "    }\n",
       "\n",
       "    .dataframe thead th {\n",
       "        text-align: right;\n",
       "    }\n",
       "</style>\n",
       "<table border=\"1\" class=\"dataframe\">\n",
       "  <thead>\n",
       "    <tr style=\"text-align: right;\">\n",
       "      <th></th>\n",
       "      <th>temperature</th>\n",
       "      <th>humidity</th>\n",
       "      <th>ph</th>\n",
       "      <th>water availability</th>\n",
       "      <th>harvest_season</th>\n",
       "      <th>label</th>\n",
       "      <th>Country</th>\n",
       "    </tr>\n",
       "  </thead>\n",
       "  <tbody>\n",
       "    <tr>\n",
       "      <th>0</th>\n",
       "      <td>20.879744</td>\n",
       "      <td>82.002744</td>\n",
       "      <td>6.502985</td>\n",
       "      <td>202.935536</td>\n",
       "      <td>rainy</td>\n",
       "      <td>rice</td>\n",
       "      <td>Nigeria</td>\n",
       "    </tr>\n",
       "    <tr>\n",
       "      <th>1</th>\n",
       "      <td>21.770462</td>\n",
       "      <td>80.319644</td>\n",
       "      <td>7.038096</td>\n",
       "      <td>226.655537</td>\n",
       "      <td>rainy</td>\n",
       "      <td>rice</td>\n",
       "      <td>Nigeria</td>\n",
       "    </tr>\n",
       "    <tr>\n",
       "      <th>2</th>\n",
       "      <td>23.004459</td>\n",
       "      <td>82.320763</td>\n",
       "      <td>7.840207</td>\n",
       "      <td>263.964248</td>\n",
       "      <td>rainy</td>\n",
       "      <td>rice</td>\n",
       "      <td>Nigeria</td>\n",
       "    </tr>\n",
       "    <tr>\n",
       "      <th>3</th>\n",
       "      <td>26.491096</td>\n",
       "      <td>80.158363</td>\n",
       "      <td>6.980401</td>\n",
       "      <td>242.864034</td>\n",
       "      <td>rainy</td>\n",
       "      <td>rice</td>\n",
       "      <td>Nigeria</td>\n",
       "    </tr>\n",
       "    <tr>\n",
       "      <th>4</th>\n",
       "      <td>20.130175</td>\n",
       "      <td>81.604873</td>\n",
       "      <td>7.628473</td>\n",
       "      <td>262.717340</td>\n",
       "      <td>rainy</td>\n",
       "      <td>rice</td>\n",
       "      <td>Nigeria</td>\n",
       "    </tr>\n",
       "  </tbody>\n",
       "</table>\n",
       "</div>"
      ],
      "text/plain": [
       "   temperature   humidity        ph  water availability harvest_season label  \\\n",
       "0    20.879744  82.002744  6.502985          202.935536          rainy  rice   \n",
       "1    21.770462  80.319644  7.038096          226.655537          rainy  rice   \n",
       "2    23.004459  82.320763  7.840207          263.964248          rainy  rice   \n",
       "3    26.491096  80.158363  6.980401          242.864034          rainy  rice   \n",
       "4    20.130175  81.604873  7.628473          262.717340          rainy  rice   \n",
       "\n",
       "   Country  \n",
       "0  Nigeria  \n",
       "1  Nigeria  \n",
       "2  Nigeria  \n",
       "3  Nigeria  \n",
       "4  Nigeria  "
      ]
     },
     "execution_count": 1,
     "metadata": {},
     "output_type": "execute_result"
    }
   ],
   "source": [
    "import pandas as pd\n",
    "data = pd.read_csv('Crop_Data.csv')\n",
    "data.head()"
   ]
  },
  {
   "cell_type": "code",
   "execution_count": 2,
   "metadata": {},
   "outputs": [
    {
     "data": {
      "text/plain": [
       "temperature           1400\n",
       "humidity              1400\n",
       "ph                    1400\n",
       "water availability    1400\n",
       "harvest_season        1400\n",
       "label                 1400\n",
       "Country               1400\n",
       "dtype: int64"
      ]
     },
     "execution_count": 2,
     "metadata": {},
     "output_type": "execute_result"
    }
   ],
   "source": [
    "data.count()"
   ]
  },
  {
   "cell_type": "code",
   "execution_count": 3,
   "metadata": {},
   "outputs": [
    {
     "data": {
      "text/plain": [
       "7"
      ]
     },
     "execution_count": 3,
     "metadata": {},
     "output_type": "execute_result"
    }
   ],
   "source": [
    "data.columns.nunique()"
   ]
  },
  {
   "cell_type": "code",
   "execution_count": 4,
   "metadata": {},
   "outputs": [
    {
     "data": {
      "text/plain": [
       "Index(['temperature', 'humidity', 'ph', 'water availability', 'harvest_season',\n",
       "       'label', 'Country'],\n",
       "      dtype='object')"
      ]
     },
     "execution_count": 4,
     "metadata": {},
     "output_type": "execute_result"
    }
   ],
   "source": [
    "data.columns.unique()"
   ]
  },
  {
   "cell_type": "code",
   "execution_count": 5,
   "metadata": {},
   "outputs": [
    {
     "data": {
      "text/html": [
       "<div>\n",
       "<style scoped>\n",
       "    .dataframe tbody tr th:only-of-type {\n",
       "        vertical-align: middle;\n",
       "    }\n",
       "\n",
       "    .dataframe tbody tr th {\n",
       "        vertical-align: top;\n",
       "    }\n",
       "\n",
       "    .dataframe thead th {\n",
       "        text-align: right;\n",
       "    }\n",
       "</style>\n",
       "<table border=\"1\" class=\"dataframe\">\n",
       "  <thead>\n",
       "    <tr style=\"text-align: right;\">\n",
       "      <th></th>\n",
       "      <th>temperature</th>\n",
       "      <th>humidity</th>\n",
       "      <th>ph</th>\n",
       "      <th>water availability</th>\n",
       "    </tr>\n",
       "  </thead>\n",
       "  <tbody>\n",
       "    <tr>\n",
       "      <th>count</th>\n",
       "      <td>1400.000000</td>\n",
       "      <td>1400.000000</td>\n",
       "      <td>1400.000000</td>\n",
       "      <td>1400.000000</td>\n",
       "    </tr>\n",
       "    <tr>\n",
       "      <th>mean</th>\n",
       "      <td>24.971621</td>\n",
       "      <td>64.611062</td>\n",
       "      <td>6.565246</td>\n",
       "      <td>91.784651</td>\n",
       "    </tr>\n",
       "    <tr>\n",
       "      <th>std</th>\n",
       "      <td>4.081622</td>\n",
       "      <td>22.753785</td>\n",
       "      <td>0.835101</td>\n",
       "      <td>58.682258</td>\n",
       "    </tr>\n",
       "    <tr>\n",
       "      <th>min</th>\n",
       "      <td>15.330426</td>\n",
       "      <td>14.258040</td>\n",
       "      <td>3.504752</td>\n",
       "      <td>20.211267</td>\n",
       "    </tr>\n",
       "    <tr>\n",
       "      <th>25%</th>\n",
       "      <td>22.178239</td>\n",
       "      <td>56.824217</td>\n",
       "      <td>6.068795</td>\n",
       "      <td>51.546542</td>\n",
       "    </tr>\n",
       "    <tr>\n",
       "      <th>50%</th>\n",
       "      <td>25.140245</td>\n",
       "      <td>68.288321</td>\n",
       "      <td>6.524478</td>\n",
       "      <td>72.379183</td>\n",
       "    </tr>\n",
       "    <tr>\n",
       "      <th>75%</th>\n",
       "      <td>27.963227</td>\n",
       "      <td>82.710409</td>\n",
       "      <td>7.042343</td>\n",
       "      <td>107.428334</td>\n",
       "    </tr>\n",
       "    <tr>\n",
       "      <th>max</th>\n",
       "      <td>36.977944</td>\n",
       "      <td>94.962187</td>\n",
       "      <td>9.935091</td>\n",
       "      <td>298.560117</td>\n",
       "    </tr>\n",
       "  </tbody>\n",
       "</table>\n",
       "</div>"
      ],
      "text/plain": [
       "       temperature     humidity           ph  water availability\n",
       "count  1400.000000  1400.000000  1400.000000         1400.000000\n",
       "mean     24.971621    64.611062     6.565246           91.784651\n",
       "std       4.081622    22.753785     0.835101           58.682258\n",
       "min      15.330426    14.258040     3.504752           20.211267\n",
       "25%      22.178239    56.824217     6.068795           51.546542\n",
       "50%      25.140245    68.288321     6.524478           72.379183\n",
       "75%      27.963227    82.710409     7.042343          107.428334\n",
       "max      36.977944    94.962187     9.935091          298.560117"
      ]
     },
     "execution_count": 5,
     "metadata": {},
     "output_type": "execute_result"
    }
   ],
   "source": [
    "data.describe()"
   ]
  },
  {
   "cell_type": "code",
   "execution_count": 7,
   "metadata": {},
   "outputs": [
    {
     "name": "stdout",
     "output_type": "stream",
     "text": [
      "<class 'pandas.core.frame.DataFrame'>\n",
      "RangeIndex: 1400 entries, 0 to 1399\n",
      "Data columns (total 7 columns):\n",
      " #   Column              Non-Null Count  Dtype  \n",
      "---  ------              --------------  -----  \n",
      " 0   temperature         1400 non-null   float64\n",
      " 1   humidity            1400 non-null   float64\n",
      " 2   ph                  1400 non-null   float64\n",
      " 3   water availability  1400 non-null   float64\n",
      " 4   harvest_season      1400 non-null   object \n",
      " 5   label               1400 non-null   object \n",
      " 6   Country             1400 non-null   object \n",
      "dtypes: float64(4), object(3)\n",
      "memory usage: 76.7+ KB\n"
     ]
    }
   ],
   "source": [
    "data.info()"
   ]
  },
  {
   "cell_type": "code",
   "execution_count": null,
   "metadata": {},
   "outputs": [],
   "source": []
  }
 ],
 "metadata": {
  "kernelspec": {
   "display_name": "Python 3",
   "language": "python",
   "name": "python3"
  },
  "language_info": {
   "codemirror_mode": {
    "name": "ipython",
    "version": 3
   },
   "file_extension": ".py",
   "mimetype": "text/x-python",
   "name": "python",
   "nbconvert_exporter": "python",
   "pygments_lexer": "ipython3",
   "version": "3.10.11"
  }
 },
 "nbformat": 4,
 "nbformat_minor": 2
}
